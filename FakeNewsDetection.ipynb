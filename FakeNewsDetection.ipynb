{
 "cells": [
  {
   "cell_type": "markdown",
   "metadata": {},
   "source": [
    "# FAKE NEWS DETECTION"
   ]
  },
  {
   "cell_type": "markdown",
   "metadata": {},
   "source": [
    "**Libraries Importation**"
   ]
  },
  {
   "cell_type": "code",
   "execution_count": 2,
   "metadata": {
    "colab": {
     "base_uri": "https://localhost:8080/"
    },
    "id": "e-ah8i7zI1Hv",
    "outputId": "c9bab1a1-01dc-4b0f-c0ab-565e6e09670e"
   },
   "outputs": [
    {
     "name": "stderr",
     "output_type": "stream",
     "text": [
      "[nltk_data] Downloading package averaged_perceptron_tagger to\n",
      "[nltk_data]     C:\\Users\\20127\\AppData\\Roaming\\nltk_data...\n",
      "[nltk_data]   Package averaged_perceptron_tagger is already up-to-\n",
      "[nltk_data]       date!\n",
      "[nltk_data] Downloading package wordnet to\n",
      "[nltk_data]     C:\\Users\\20127\\AppData\\Roaming\\nltk_data...\n",
      "[nltk_data]   Package wordnet is already up-to-date!\n",
      "[nltk_data] Downloading package stopwords to\n",
      "[nltk_data]     C:\\Users\\20127\\AppData\\Roaming\\nltk_data...\n",
      "[nltk_data]   Package stopwords is already up-to-date!\n"
     ]
    },
    {
     "data": {
      "text/plain": [
       "True"
      ]
     },
     "execution_count": 2,
     "metadata": {},
     "output_type": "execute_result"
    }
   ],
   "source": [
    "import pandas as pd\n",
    "import numpy as np\n",
    "import nltk\n",
    "import re\n",
    "import matplotlib.pyplot as plt\n",
    "import seaborn as sns\n",
    "import pickle\n",
    "from joblib import dump\n",
    "from nltk.tokenize import RegexpTokenizer\n",
    "from nltk.corpus import stopwords\n",
    "from nltk.stem import WordNetLemmatizer\n",
    "from nltk import pos_tag\n",
    "from joblib import load\n",
    "from sklearn.feature_extraction.text import TfidfVectorizer\n",
    "from sklearn.model_selection import train_test_split\n",
    "from sklearn.linear_model import PassiveAggressiveClassifier\n",
    "from sklearn.metrics import accuracy_score, confusion_matrix, classification_report\n",
    "from sklearn.tree import DecisionTreeClassifier\n",
    "from sklearn.metrics import accuracy_score\n",
    "from sklearn.svm import SVC\n",
    "from sklearn.linear_model import LogisticRegression\n",
    "from sklearn.naive_bayes import MultinomialNB\n",
    "from sklearn.metrics import confusion_matrix\n",
    "from sklearn.metrics import classification_report\n",
    "nltk.download('averaged_perceptron_tagger')\n",
    "nltk.download('wordnet')\n",
    "nltk.download('stopwords')"
   ]
  },
  {
   "cell_type": "code",
   "execution_count": 3,
   "metadata": {
    "id": "SgXwYC9xNlJg"
   },
   "outputs": [],
   "source": [
    "df=pd.read_csv(\"news.csv\")"
   ]
  },
  {
   "cell_type": "code",
   "execution_count": 4,
   "metadata": {
    "colab": {
     "base_uri": "https://localhost:8080/",
     "height": 423
    },
    "id": "ngy1vQZtR3eZ",
    "outputId": "c1d3f0ad-f07b-4ca0-e64c-d046d04aa6ea"
   },
   "outputs": [
    {
     "data": {
      "text/html": [
       "<div>\n",
       "<style scoped>\n",
       "    .dataframe tbody tr th:only-of-type {\n",
       "        vertical-align: middle;\n",
       "    }\n",
       "\n",
       "    .dataframe tbody tr th {\n",
       "        vertical-align: top;\n",
       "    }\n",
       "\n",
       "    .dataframe thead th {\n",
       "        text-align: right;\n",
       "    }\n",
       "</style>\n",
       "<table border=\"1\" class=\"dataframe\">\n",
       "  <thead>\n",
       "    <tr style=\"text-align: right;\">\n",
       "      <th></th>\n",
       "      <th>Unnamed: 0</th>\n",
       "      <th>title</th>\n",
       "      <th>text</th>\n",
       "      <th>label</th>\n",
       "    </tr>\n",
       "  </thead>\n",
       "  <tbody>\n",
       "    <tr>\n",
       "      <th>0</th>\n",
       "      <td>8476</td>\n",
       "      <td>You Can Smell Hillary’s Fear</td>\n",
       "      <td>Daniel Greenfield, a Shillman Journalism Fello...</td>\n",
       "      <td>FAKE</td>\n",
       "    </tr>\n",
       "    <tr>\n",
       "      <th>1</th>\n",
       "      <td>10294</td>\n",
       "      <td>Watch The Exact Moment Paul Ryan Committed Pol...</td>\n",
       "      <td>Google Pinterest Digg Linkedin Reddit Stumbleu...</td>\n",
       "      <td>FAKE</td>\n",
       "    </tr>\n",
       "    <tr>\n",
       "      <th>2</th>\n",
       "      <td>3608</td>\n",
       "      <td>Kerry to go to Paris in gesture of sympathy</td>\n",
       "      <td>U.S. Secretary of State John F. Kerry said Mon...</td>\n",
       "      <td>REAL</td>\n",
       "    </tr>\n",
       "    <tr>\n",
       "      <th>3</th>\n",
       "      <td>10142</td>\n",
       "      <td>Bernie supporters on Twitter erupt in anger ag...</td>\n",
       "      <td>— Kaydee King (@KaydeeKing) November 9, 2016 T...</td>\n",
       "      <td>FAKE</td>\n",
       "    </tr>\n",
       "    <tr>\n",
       "      <th>4</th>\n",
       "      <td>875</td>\n",
       "      <td>The Battle of New York: Why This Primary Matters</td>\n",
       "      <td>It's primary day in New York and front-runners...</td>\n",
       "      <td>REAL</td>\n",
       "    </tr>\n",
       "    <tr>\n",
       "      <th>...</th>\n",
       "      <td>...</td>\n",
       "      <td>...</td>\n",
       "      <td>...</td>\n",
       "      <td>...</td>\n",
       "    </tr>\n",
       "    <tr>\n",
       "      <th>6330</th>\n",
       "      <td>4490</td>\n",
       "      <td>State Department says it can't find emails fro...</td>\n",
       "      <td>The State Department told the Republican Natio...</td>\n",
       "      <td>REAL</td>\n",
       "    </tr>\n",
       "    <tr>\n",
       "      <th>6331</th>\n",
       "      <td>8062</td>\n",
       "      <td>The ‘P’ in PBS Should Stand for ‘Plutocratic’ ...</td>\n",
       "      <td>The ‘P’ in PBS Should Stand for ‘Plutocratic’ ...</td>\n",
       "      <td>FAKE</td>\n",
       "    </tr>\n",
       "    <tr>\n",
       "      <th>6332</th>\n",
       "      <td>8622</td>\n",
       "      <td>Anti-Trump Protesters Are Tools of the Oligarc...</td>\n",
       "      <td>Anti-Trump Protesters Are Tools of the Oligar...</td>\n",
       "      <td>FAKE</td>\n",
       "    </tr>\n",
       "    <tr>\n",
       "      <th>6333</th>\n",
       "      <td>4021</td>\n",
       "      <td>In Ethiopia, Obama seeks progress on peace, se...</td>\n",
       "      <td>ADDIS ABABA, Ethiopia —President Obama convene...</td>\n",
       "      <td>REAL</td>\n",
       "    </tr>\n",
       "    <tr>\n",
       "      <th>6334</th>\n",
       "      <td>4330</td>\n",
       "      <td>Jeb Bush Is Suddenly Attacking Trump. Here's W...</td>\n",
       "      <td>Jeb Bush Is Suddenly Attacking Trump. Here's W...</td>\n",
       "      <td>REAL</td>\n",
       "    </tr>\n",
       "  </tbody>\n",
       "</table>\n",
       "<p>6335 rows × 4 columns</p>\n",
       "</div>"
      ],
      "text/plain": [
       "      Unnamed: 0                                              title  \\\n",
       "0           8476                       You Can Smell Hillary’s Fear   \n",
       "1          10294  Watch The Exact Moment Paul Ryan Committed Pol...   \n",
       "2           3608        Kerry to go to Paris in gesture of sympathy   \n",
       "3          10142  Bernie supporters on Twitter erupt in anger ag...   \n",
       "4            875   The Battle of New York: Why This Primary Matters   \n",
       "...          ...                                                ...   \n",
       "6330        4490  State Department says it can't find emails fro...   \n",
       "6331        8062  The ‘P’ in PBS Should Stand for ‘Plutocratic’ ...   \n",
       "6332        8622  Anti-Trump Protesters Are Tools of the Oligarc...   \n",
       "6333        4021  In Ethiopia, Obama seeks progress on peace, se...   \n",
       "6334        4330  Jeb Bush Is Suddenly Attacking Trump. Here's W...   \n",
       "\n",
       "                                                   text label  \n",
       "0     Daniel Greenfield, a Shillman Journalism Fello...  FAKE  \n",
       "1     Google Pinterest Digg Linkedin Reddit Stumbleu...  FAKE  \n",
       "2     U.S. Secretary of State John F. Kerry said Mon...  REAL  \n",
       "3     — Kaydee King (@KaydeeKing) November 9, 2016 T...  FAKE  \n",
       "4     It's primary day in New York and front-runners...  REAL  \n",
       "...                                                 ...   ...  \n",
       "6330  The State Department told the Republican Natio...  REAL  \n",
       "6331  The ‘P’ in PBS Should Stand for ‘Plutocratic’ ...  FAKE  \n",
       "6332   Anti-Trump Protesters Are Tools of the Oligar...  FAKE  \n",
       "6333  ADDIS ABABA, Ethiopia —President Obama convene...  REAL  \n",
       "6334  Jeb Bush Is Suddenly Attacking Trump. Here's W...  REAL  \n",
       "\n",
       "[6335 rows x 4 columns]"
      ]
     },
     "execution_count": 4,
     "metadata": {},
     "output_type": "execute_result"
    }
   ],
   "source": [
    "df"
   ]
  },
  {
   "cell_type": "markdown",
   "metadata": {
    "id": "L0pmOxAET4ln"
   },
   "source": [
    "**1.Preprocessing**"
   ]
  },
  {
   "cell_type": "code",
   "execution_count": 5,
   "metadata": {
    "id": "wC2JmlXOy_DJ"
   },
   "outputs": [],
   "source": [
    "#convert to lower case to avoid issues where the same word in different cases is treated as different words.\n",
    "df['title'] = df['title'].str.lower()\n",
    "df['text'] = df['text'].str.lower()\n"
   ]
  },
  {
   "cell_type": "code",
   "execution_count": 6,
   "metadata": {
    "colab": {
     "base_uri": "https://localhost:8080/",
     "height": 206
    },
    "id": "jKGI3yci1CfJ",
    "outputId": "0075e9b8-9f92-463d-e848-7c60c36eb2a9"
   },
   "outputs": [
    {
     "data": {
      "text/html": [
       "<div>\n",
       "<style scoped>\n",
       "    .dataframe tbody tr th:only-of-type {\n",
       "        vertical-align: middle;\n",
       "    }\n",
       "\n",
       "    .dataframe tbody tr th {\n",
       "        vertical-align: top;\n",
       "    }\n",
       "\n",
       "    .dataframe thead th {\n",
       "        text-align: right;\n",
       "    }\n",
       "</style>\n",
       "<table border=\"1\" class=\"dataframe\">\n",
       "  <thead>\n",
       "    <tr style=\"text-align: right;\">\n",
       "      <th></th>\n",
       "      <th>Unnamed: 0</th>\n",
       "      <th>title</th>\n",
       "      <th>text</th>\n",
       "      <th>label</th>\n",
       "    </tr>\n",
       "  </thead>\n",
       "  <tbody>\n",
       "    <tr>\n",
       "      <th>0</th>\n",
       "      <td>8476</td>\n",
       "      <td>you can smell hillary’s fear</td>\n",
       "      <td>daniel greenfield, a shillman journalism fello...</td>\n",
       "      <td>0</td>\n",
       "    </tr>\n",
       "    <tr>\n",
       "      <th>1</th>\n",
       "      <td>10294</td>\n",
       "      <td>watch the exact moment paul ryan committed pol...</td>\n",
       "      <td>google pinterest digg linkedin reddit stumbleu...</td>\n",
       "      <td>0</td>\n",
       "    </tr>\n",
       "    <tr>\n",
       "      <th>2</th>\n",
       "      <td>3608</td>\n",
       "      <td>kerry to go to paris in gesture of sympathy</td>\n",
       "      <td>u.s. secretary of state john f. kerry said mon...</td>\n",
       "      <td>1</td>\n",
       "    </tr>\n",
       "    <tr>\n",
       "      <th>3</th>\n",
       "      <td>10142</td>\n",
       "      <td>bernie supporters on twitter erupt in anger ag...</td>\n",
       "      <td>— kaydee king (@kaydeeking) november 9, 2016 t...</td>\n",
       "      <td>0</td>\n",
       "    </tr>\n",
       "    <tr>\n",
       "      <th>4</th>\n",
       "      <td>875</td>\n",
       "      <td>the battle of new york: why this primary matters</td>\n",
       "      <td>it's primary day in new york and front-runners...</td>\n",
       "      <td>1</td>\n",
       "    </tr>\n",
       "  </tbody>\n",
       "</table>\n",
       "</div>"
      ],
      "text/plain": [
       "   Unnamed: 0                                              title  \\\n",
       "0        8476                       you can smell hillary’s fear   \n",
       "1       10294  watch the exact moment paul ryan committed pol...   \n",
       "2        3608        kerry to go to paris in gesture of sympathy   \n",
       "3       10142  bernie supporters on twitter erupt in anger ag...   \n",
       "4         875   the battle of new york: why this primary matters   \n",
       "\n",
       "                                                text label  \n",
       "0  daniel greenfield, a shillman journalism fello...     0  \n",
       "1  google pinterest digg linkedin reddit stumbleu...     0  \n",
       "2  u.s. secretary of state john f. kerry said mon...     1  \n",
       "3  — kaydee king (@kaydeeking) november 9, 2016 t...     0  \n",
       "4  it's primary day in new york and front-runners...     1  "
      ]
     },
     "execution_count": 6,
     "metadata": {},
     "output_type": "execute_result"
    }
   ],
   "source": [
    "df.label = df.label.astype(str)\n",
    "df.label = df.label.str.strip()\n",
    "dict = { 'REAL' : '1' , 'FAKE' : '0'}\n",
    "df['label'] = df['label'].map(dict)\n",
    "df.head()"
   ]
  },
  {
   "cell_type": "code",
   "execution_count": 7,
   "metadata": {
    "colab": {
     "base_uri": "https://localhost:8080/"
    },
    "id": "1oGeT39jznaR",
    "outputId": "86a4e1b8-12b1-4403-ed99-90c044a078d9"
   },
   "outputs": [
    {
     "name": "stdout",
     "output_type": "stream",
     "text": [
      "Before Unnamed: 0    0\n",
      "title         0\n",
      "text          0\n",
      "label         0\n",
      "dtype: int64\n",
      "After Unnamed: 0    0\n",
      "title         0\n",
      "text          0\n",
      "label         0\n",
      "dtype: int64\n"
     ]
    }
   ],
   "source": [
    "# Drop nulls\n",
    "df.isna().sum()\n",
    "print(f\"Before {df.isna().sum()}\")\n",
    "df = df.dropna()\n",
    "print(f\"After {df.isna().sum()}\")\n",
    "# Reset the index after dropping rows\n",
    "df = df.reset_index(drop=True)\n"
   ]
  },
  {
   "cell_type": "code",
   "execution_count": 8,
   "metadata": {
    "id": "Qh6IpMk2zr8Z"
   },
   "outputs": [],
   "source": [
    "#duplicates\n",
    "has_duplicates = df.duplicated().any()\n",
    "if has_duplicates:\n",
    "    df.drop_duplicates(inplace=True)"
   ]
  },
  {
   "cell_type": "code",
   "execution_count": 9,
   "metadata": {
    "colab": {
     "base_uri": "https://localhost:8080/"
    },
    "id": "b0paxzqXR3eb",
    "outputId": "20e74bdd-6839-42eb-bfb3-3973cdbad336"
   },
   "outputs": [
    {
     "name": "stdout",
     "output_type": "stream",
     "text": [
      "0\n"
     ]
    }
   ],
   "source": [
    "c=0\n",
    "for row in df['title']:\n",
    "    if row == ' ':\n",
    "        c+=1\n",
    "print(c)"
   ]
  },
  {
   "cell_type": "code",
   "execution_count": 10,
   "metadata": {
    "colab": {
     "base_uri": "https://localhost:8080/",
     "height": 423
    },
    "id": "jU2MvfgfR3eb",
    "outputId": "f1df0e13-2d44-4f48-888e-b9addaa0ea8e",
    "scrolled": false
   },
   "outputs": [
    {
     "data": {
      "text/html": [
       "<div>\n",
       "<style scoped>\n",
       "    .dataframe tbody tr th:only-of-type {\n",
       "        vertical-align: middle;\n",
       "    }\n",
       "\n",
       "    .dataframe tbody tr th {\n",
       "        vertical-align: top;\n",
       "    }\n",
       "\n",
       "    .dataframe thead th {\n",
       "        text-align: right;\n",
       "    }\n",
       "</style>\n",
       "<table border=\"1\" class=\"dataframe\">\n",
       "  <thead>\n",
       "    <tr style=\"text-align: right;\">\n",
       "      <th></th>\n",
       "      <th>Unnamed: 0</th>\n",
       "      <th>title</th>\n",
       "      <th>text</th>\n",
       "      <th>label</th>\n",
       "    </tr>\n",
       "  </thead>\n",
       "  <tbody>\n",
       "    <tr>\n",
       "      <th>0</th>\n",
       "      <td>8476</td>\n",
       "      <td>you can smell hillary’s fear</td>\n",
       "      <td>daniel greenfield, a shillman journalism fello...</td>\n",
       "      <td>0</td>\n",
       "    </tr>\n",
       "    <tr>\n",
       "      <th>1</th>\n",
       "      <td>10294</td>\n",
       "      <td>watch the exact moment paul ryan committed pol...</td>\n",
       "      <td>google pinterest digg linkedin reddit stumbleu...</td>\n",
       "      <td>0</td>\n",
       "    </tr>\n",
       "    <tr>\n",
       "      <th>2</th>\n",
       "      <td>3608</td>\n",
       "      <td>kerry to go to paris in gesture of sympathy</td>\n",
       "      <td>u.s. secretary of state john f. kerry said mon...</td>\n",
       "      <td>1</td>\n",
       "    </tr>\n",
       "    <tr>\n",
       "      <th>3</th>\n",
       "      <td>10142</td>\n",
       "      <td>bernie supporters on twitter erupt in anger ag...</td>\n",
       "      <td>— kaydee king (@kaydeeking) november 9, 2016 t...</td>\n",
       "      <td>0</td>\n",
       "    </tr>\n",
       "    <tr>\n",
       "      <th>4</th>\n",
       "      <td>875</td>\n",
       "      <td>the battle of new york: why this primary matters</td>\n",
       "      <td>it's primary day in new york and front-runners...</td>\n",
       "      <td>1</td>\n",
       "    </tr>\n",
       "    <tr>\n",
       "      <th>...</th>\n",
       "      <td>...</td>\n",
       "      <td>...</td>\n",
       "      <td>...</td>\n",
       "      <td>...</td>\n",
       "    </tr>\n",
       "    <tr>\n",
       "      <th>6330</th>\n",
       "      <td>4490</td>\n",
       "      <td>state department says it can't find emails fro...</td>\n",
       "      <td>the state department told the republican natio...</td>\n",
       "      <td>1</td>\n",
       "    </tr>\n",
       "    <tr>\n",
       "      <th>6331</th>\n",
       "      <td>8062</td>\n",
       "      <td>the ‘p’ in pbs should stand for ‘plutocratic’ ...</td>\n",
       "      <td>the ‘p’ in pbs should stand for ‘plutocratic’ ...</td>\n",
       "      <td>0</td>\n",
       "    </tr>\n",
       "    <tr>\n",
       "      <th>6332</th>\n",
       "      <td>8622</td>\n",
       "      <td>anti-trump protesters are tools of the oligarc...</td>\n",
       "      <td>anti-trump protesters are tools of the oligar...</td>\n",
       "      <td>0</td>\n",
       "    </tr>\n",
       "    <tr>\n",
       "      <th>6333</th>\n",
       "      <td>4021</td>\n",
       "      <td>in ethiopia, obama seeks progress on peace, se...</td>\n",
       "      <td>addis ababa, ethiopia —president obama convene...</td>\n",
       "      <td>1</td>\n",
       "    </tr>\n",
       "    <tr>\n",
       "      <th>6334</th>\n",
       "      <td>4330</td>\n",
       "      <td>jeb bush is suddenly attacking trump. here's w...</td>\n",
       "      <td>jeb bush is suddenly attacking trump. here's w...</td>\n",
       "      <td>1</td>\n",
       "    </tr>\n",
       "  </tbody>\n",
       "</table>\n",
       "<p>6335 rows × 4 columns</p>\n",
       "</div>"
      ],
      "text/plain": [
       "      Unnamed: 0                                              title  \\\n",
       "0           8476                       you can smell hillary’s fear   \n",
       "1          10294  watch the exact moment paul ryan committed pol...   \n",
       "2           3608        kerry to go to paris in gesture of sympathy   \n",
       "3          10142  bernie supporters on twitter erupt in anger ag...   \n",
       "4            875   the battle of new york: why this primary matters   \n",
       "...          ...                                                ...   \n",
       "6330        4490  state department says it can't find emails fro...   \n",
       "6331        8062  the ‘p’ in pbs should stand for ‘plutocratic’ ...   \n",
       "6332        8622  anti-trump protesters are tools of the oligarc...   \n",
       "6333        4021  in ethiopia, obama seeks progress on peace, se...   \n",
       "6334        4330  jeb bush is suddenly attacking trump. here's w...   \n",
       "\n",
       "                                                   text label  \n",
       "0     daniel greenfield, a shillman journalism fello...     0  \n",
       "1     google pinterest digg linkedin reddit stumbleu...     0  \n",
       "2     u.s. secretary of state john f. kerry said mon...     1  \n",
       "3     — kaydee king (@kaydeeking) november 9, 2016 t...     0  \n",
       "4     it's primary day in new york and front-runners...     1  \n",
       "...                                                 ...   ...  \n",
       "6330  the state department told the republican natio...     1  \n",
       "6331  the ‘p’ in pbs should stand for ‘plutocratic’ ...     0  \n",
       "6332   anti-trump protesters are tools of the oligar...     0  \n",
       "6333  addis ababa, ethiopia —president obama convene...     1  \n",
       "6334  jeb bush is suddenly attacking trump. here's w...     1  \n",
       "\n",
       "[6335 rows x 4 columns]"
      ]
     },
     "execution_count": 10,
     "metadata": {},
     "output_type": "execute_result"
    }
   ],
   "source": [
    "df"
   ]
  },
  {
   "cell_type": "code",
   "execution_count": 11,
   "metadata": {
    "colab": {
     "base_uri": "https://localhost:8080/"
    },
    "id": "DxA0JCe-R3eb",
    "outputId": "f060b923-fa5a-4bbe-9d55-7b8655c16bef"
   },
   "outputs": [
    {
     "name": "stdout",
     "output_type": "stream",
     "text": [
      "36\n"
     ]
    }
   ],
   "source": [
    "### rows that doesn't have text in it########\n",
    "c=0\n",
    "listOfIndcies=[]\n",
    "for row in df['text']:\n",
    "    if row == ' ':\n",
    "        listOfIndcies=(df.index[df['text']==row].tolist())\n",
    "        c+=1\n",
    "print(c)"
   ]
  },
  {
   "cell_type": "code",
   "execution_count": 12,
   "metadata": {
    "colab": {
     "base_uri": "https://localhost:8080/"
    },
    "id": "SkNXiQVpR3eb",
    "outputId": "f4ce9b9b-6c73-4f73-fadb-63642bf2228a"
   },
   "outputs": [
    {
     "data": {
      "text/plain": [
       "[106,\n",
       " 710,\n",
       " 806,\n",
       " 919,\n",
       " 940,\n",
       " 1664,\n",
       " 1736,\n",
       " 1851,\n",
       " 1883,\n",
       " 1941,\n",
       " 2244,\n",
       " 2426,\n",
       " 2576,\n",
       " 2662,\n",
       " 2788,\n",
       " 2832,\n",
       " 3073,\n",
       " 3350,\n",
       " 3511,\n",
       " 3641,\n",
       " 3642,\n",
       " 4014,\n",
       " 4142,\n",
       " 4253,\n",
       " 4713,\n",
       " 4744,\n",
       " 5017,\n",
       " 5088,\n",
       " 5213,\n",
       " 5581,\n",
       " 5639,\n",
       " 5699,\n",
       " 5772,\n",
       " 6064,\n",
       " 6175,\n",
       " 6328]"
      ]
     },
     "execution_count": 12,
     "metadata": {},
     "output_type": "execute_result"
    }
   ],
   "source": [
    "listOfIndcies"
   ]
  },
  {
   "cell_type": "code",
   "execution_count": 13,
   "metadata": {
    "id": "I_YO8R8eR3ec"
   },
   "outputs": [],
   "source": [
    "df = df.drop(labels=listOfIndcies,axis=0)"
   ]
  },
  {
   "cell_type": "code",
   "execution_count": 14,
   "metadata": {
    "colab": {
     "base_uri": "https://localhost:8080/",
     "height": 423
    },
    "id": "i8cfdr9TR3ec",
    "outputId": "7d993ce7-6ad2-4486-d185-6ba7d0058014"
   },
   "outputs": [
    {
     "data": {
      "text/html": [
       "<div>\n",
       "<style scoped>\n",
       "    .dataframe tbody tr th:only-of-type {\n",
       "        vertical-align: middle;\n",
       "    }\n",
       "\n",
       "    .dataframe tbody tr th {\n",
       "        vertical-align: top;\n",
       "    }\n",
       "\n",
       "    .dataframe thead th {\n",
       "        text-align: right;\n",
       "    }\n",
       "</style>\n",
       "<table border=\"1\" class=\"dataframe\">\n",
       "  <thead>\n",
       "    <tr style=\"text-align: right;\">\n",
       "      <th></th>\n",
       "      <th>Unnamed: 0</th>\n",
       "      <th>title</th>\n",
       "      <th>text</th>\n",
       "      <th>label</th>\n",
       "    </tr>\n",
       "  </thead>\n",
       "  <tbody>\n",
       "    <tr>\n",
       "      <th>0</th>\n",
       "      <td>8476</td>\n",
       "      <td>you can smell hillary’s fear</td>\n",
       "      <td>daniel greenfield, a shillman journalism fello...</td>\n",
       "      <td>0</td>\n",
       "    </tr>\n",
       "    <tr>\n",
       "      <th>1</th>\n",
       "      <td>10294</td>\n",
       "      <td>watch the exact moment paul ryan committed pol...</td>\n",
       "      <td>google pinterest digg linkedin reddit stumbleu...</td>\n",
       "      <td>0</td>\n",
       "    </tr>\n",
       "    <tr>\n",
       "      <th>2</th>\n",
       "      <td>3608</td>\n",
       "      <td>kerry to go to paris in gesture of sympathy</td>\n",
       "      <td>u.s. secretary of state john f. kerry said mon...</td>\n",
       "      <td>1</td>\n",
       "    </tr>\n",
       "    <tr>\n",
       "      <th>3</th>\n",
       "      <td>10142</td>\n",
       "      <td>bernie supporters on twitter erupt in anger ag...</td>\n",
       "      <td>— kaydee king (@kaydeeking) november 9, 2016 t...</td>\n",
       "      <td>0</td>\n",
       "    </tr>\n",
       "    <tr>\n",
       "      <th>4</th>\n",
       "      <td>875</td>\n",
       "      <td>the battle of new york: why this primary matters</td>\n",
       "      <td>it's primary day in new york and front-runners...</td>\n",
       "      <td>1</td>\n",
       "    </tr>\n",
       "    <tr>\n",
       "      <th>...</th>\n",
       "      <td>...</td>\n",
       "      <td>...</td>\n",
       "      <td>...</td>\n",
       "      <td>...</td>\n",
       "    </tr>\n",
       "    <tr>\n",
       "      <th>6330</th>\n",
       "      <td>4490</td>\n",
       "      <td>state department says it can't find emails fro...</td>\n",
       "      <td>the state department told the republican natio...</td>\n",
       "      <td>1</td>\n",
       "    </tr>\n",
       "    <tr>\n",
       "      <th>6331</th>\n",
       "      <td>8062</td>\n",
       "      <td>the ‘p’ in pbs should stand for ‘plutocratic’ ...</td>\n",
       "      <td>the ‘p’ in pbs should stand for ‘plutocratic’ ...</td>\n",
       "      <td>0</td>\n",
       "    </tr>\n",
       "    <tr>\n",
       "      <th>6332</th>\n",
       "      <td>8622</td>\n",
       "      <td>anti-trump protesters are tools of the oligarc...</td>\n",
       "      <td>anti-trump protesters are tools of the oligar...</td>\n",
       "      <td>0</td>\n",
       "    </tr>\n",
       "    <tr>\n",
       "      <th>6333</th>\n",
       "      <td>4021</td>\n",
       "      <td>in ethiopia, obama seeks progress on peace, se...</td>\n",
       "      <td>addis ababa, ethiopia —president obama convene...</td>\n",
       "      <td>1</td>\n",
       "    </tr>\n",
       "    <tr>\n",
       "      <th>6334</th>\n",
       "      <td>4330</td>\n",
       "      <td>jeb bush is suddenly attacking trump. here's w...</td>\n",
       "      <td>jeb bush is suddenly attacking trump. here's w...</td>\n",
       "      <td>1</td>\n",
       "    </tr>\n",
       "  </tbody>\n",
       "</table>\n",
       "<p>6299 rows × 4 columns</p>\n",
       "</div>"
      ],
      "text/plain": [
       "      Unnamed: 0                                              title  \\\n",
       "0           8476                       you can smell hillary’s fear   \n",
       "1          10294  watch the exact moment paul ryan committed pol...   \n",
       "2           3608        kerry to go to paris in gesture of sympathy   \n",
       "3          10142  bernie supporters on twitter erupt in anger ag...   \n",
       "4            875   the battle of new york: why this primary matters   \n",
       "...          ...                                                ...   \n",
       "6330        4490  state department says it can't find emails fro...   \n",
       "6331        8062  the ‘p’ in pbs should stand for ‘plutocratic’ ...   \n",
       "6332        8622  anti-trump protesters are tools of the oligarc...   \n",
       "6333        4021  in ethiopia, obama seeks progress on peace, se...   \n",
       "6334        4330  jeb bush is suddenly attacking trump. here's w...   \n",
       "\n",
       "                                                   text label  \n",
       "0     daniel greenfield, a shillman journalism fello...     0  \n",
       "1     google pinterest digg linkedin reddit stumbleu...     0  \n",
       "2     u.s. secretary of state john f. kerry said mon...     1  \n",
       "3     — kaydee king (@kaydeeking) november 9, 2016 t...     0  \n",
       "4     it's primary day in new york and front-runners...     1  \n",
       "...                                                 ...   ...  \n",
       "6330  the state department told the republican natio...     1  \n",
       "6331  the ‘p’ in pbs should stand for ‘plutocratic’ ...     0  \n",
       "6332   anti-trump protesters are tools of the oligar...     0  \n",
       "6333  addis ababa, ethiopia —president obama convene...     1  \n",
       "6334  jeb bush is suddenly attacking trump. here's w...     1  \n",
       "\n",
       "[6299 rows x 4 columns]"
      ]
     },
     "execution_count": 14,
     "metadata": {},
     "output_type": "execute_result"
    }
   ],
   "source": [
    "df"
   ]
  },
  {
   "cell_type": "code",
   "execution_count": 15,
   "metadata": {
    "colab": {
     "base_uri": "https://localhost:8080/"
    },
    "id": "tO4EuWyUR3ec",
    "outputId": "b7e95d35-0269-4c64-e34a-388382b5494b"
   },
   "outputs": [
    {
     "name": "stdout",
     "output_type": "stream",
     "text": [
      "0\n"
     ]
    }
   ],
   "source": [
    "c=0\n",
    "for row in df['text']:\n",
    "    if row == ' ':\n",
    "        c+=1\n",
    "print(c)"
   ]
  },
  {
   "cell_type": "code",
   "execution_count": 16,
   "metadata": {
    "id": "rbu8oPacR3ec"
   },
   "outputs": [],
   "source": [
    "df=df.reset_index(drop=True)"
   ]
  },
  {
   "cell_type": "code",
   "execution_count": 17,
   "metadata": {
    "colab": {
     "base_uri": "https://localhost:8080/",
     "height": 423
    },
    "id": "zbZ8udaBR3ec",
    "outputId": "b184c0bc-ba0d-46aa-d607-a2c05e4abb93"
   },
   "outputs": [
    {
     "data": {
      "text/html": [
       "<div>\n",
       "<style scoped>\n",
       "    .dataframe tbody tr th:only-of-type {\n",
       "        vertical-align: middle;\n",
       "    }\n",
       "\n",
       "    .dataframe tbody tr th {\n",
       "        vertical-align: top;\n",
       "    }\n",
       "\n",
       "    .dataframe thead th {\n",
       "        text-align: right;\n",
       "    }\n",
       "</style>\n",
       "<table border=\"1\" class=\"dataframe\">\n",
       "  <thead>\n",
       "    <tr style=\"text-align: right;\">\n",
       "      <th></th>\n",
       "      <th>Unnamed: 0</th>\n",
       "      <th>title</th>\n",
       "      <th>text</th>\n",
       "      <th>label</th>\n",
       "    </tr>\n",
       "  </thead>\n",
       "  <tbody>\n",
       "    <tr>\n",
       "      <th>0</th>\n",
       "      <td>8476</td>\n",
       "      <td>you can smell hillary’s fear</td>\n",
       "      <td>daniel greenfield, a shillman journalism fello...</td>\n",
       "      <td>0</td>\n",
       "    </tr>\n",
       "    <tr>\n",
       "      <th>1</th>\n",
       "      <td>10294</td>\n",
       "      <td>watch the exact moment paul ryan committed pol...</td>\n",
       "      <td>google pinterest digg linkedin reddit stumbleu...</td>\n",
       "      <td>0</td>\n",
       "    </tr>\n",
       "    <tr>\n",
       "      <th>2</th>\n",
       "      <td>3608</td>\n",
       "      <td>kerry to go to paris in gesture of sympathy</td>\n",
       "      <td>u.s. secretary of state john f. kerry said mon...</td>\n",
       "      <td>1</td>\n",
       "    </tr>\n",
       "    <tr>\n",
       "      <th>3</th>\n",
       "      <td>10142</td>\n",
       "      <td>bernie supporters on twitter erupt in anger ag...</td>\n",
       "      <td>— kaydee king (@kaydeeking) november 9, 2016 t...</td>\n",
       "      <td>0</td>\n",
       "    </tr>\n",
       "    <tr>\n",
       "      <th>4</th>\n",
       "      <td>875</td>\n",
       "      <td>the battle of new york: why this primary matters</td>\n",
       "      <td>it's primary day in new york and front-runners...</td>\n",
       "      <td>1</td>\n",
       "    </tr>\n",
       "    <tr>\n",
       "      <th>...</th>\n",
       "      <td>...</td>\n",
       "      <td>...</td>\n",
       "      <td>...</td>\n",
       "      <td>...</td>\n",
       "    </tr>\n",
       "    <tr>\n",
       "      <th>6294</th>\n",
       "      <td>4490</td>\n",
       "      <td>state department says it can't find emails fro...</td>\n",
       "      <td>the state department told the republican natio...</td>\n",
       "      <td>1</td>\n",
       "    </tr>\n",
       "    <tr>\n",
       "      <th>6295</th>\n",
       "      <td>8062</td>\n",
       "      <td>the ‘p’ in pbs should stand for ‘plutocratic’ ...</td>\n",
       "      <td>the ‘p’ in pbs should stand for ‘plutocratic’ ...</td>\n",
       "      <td>0</td>\n",
       "    </tr>\n",
       "    <tr>\n",
       "      <th>6296</th>\n",
       "      <td>8622</td>\n",
       "      <td>anti-trump protesters are tools of the oligarc...</td>\n",
       "      <td>anti-trump protesters are tools of the oligar...</td>\n",
       "      <td>0</td>\n",
       "    </tr>\n",
       "    <tr>\n",
       "      <th>6297</th>\n",
       "      <td>4021</td>\n",
       "      <td>in ethiopia, obama seeks progress on peace, se...</td>\n",
       "      <td>addis ababa, ethiopia —president obama convene...</td>\n",
       "      <td>1</td>\n",
       "    </tr>\n",
       "    <tr>\n",
       "      <th>6298</th>\n",
       "      <td>4330</td>\n",
       "      <td>jeb bush is suddenly attacking trump. here's w...</td>\n",
       "      <td>jeb bush is suddenly attacking trump. here's w...</td>\n",
       "      <td>1</td>\n",
       "    </tr>\n",
       "  </tbody>\n",
       "</table>\n",
       "<p>6299 rows × 4 columns</p>\n",
       "</div>"
      ],
      "text/plain": [
       "      Unnamed: 0                                              title  \\\n",
       "0           8476                       you can smell hillary’s fear   \n",
       "1          10294  watch the exact moment paul ryan committed pol...   \n",
       "2           3608        kerry to go to paris in gesture of sympathy   \n",
       "3          10142  bernie supporters on twitter erupt in anger ag...   \n",
       "4            875   the battle of new york: why this primary matters   \n",
       "...          ...                                                ...   \n",
       "6294        4490  state department says it can't find emails fro...   \n",
       "6295        8062  the ‘p’ in pbs should stand for ‘plutocratic’ ...   \n",
       "6296        8622  anti-trump protesters are tools of the oligarc...   \n",
       "6297        4021  in ethiopia, obama seeks progress on peace, se...   \n",
       "6298        4330  jeb bush is suddenly attacking trump. here's w...   \n",
       "\n",
       "                                                   text label  \n",
       "0     daniel greenfield, a shillman journalism fello...     0  \n",
       "1     google pinterest digg linkedin reddit stumbleu...     0  \n",
       "2     u.s. secretary of state john f. kerry said mon...     1  \n",
       "3     — kaydee king (@kaydeeking) november 9, 2016 t...     0  \n",
       "4     it's primary day in new york and front-runners...     1  \n",
       "...                                                 ...   ...  \n",
       "6294  the state department told the republican natio...     1  \n",
       "6295  the ‘p’ in pbs should stand for ‘plutocratic’ ...     0  \n",
       "6296   anti-trump protesters are tools of the oligar...     0  \n",
       "6297  addis ababa, ethiopia —president obama convene...     1  \n",
       "6298  jeb bush is suddenly attacking trump. here's w...     1  \n",
       "\n",
       "[6299 rows x 4 columns]"
      ]
     },
     "execution_count": 17,
     "metadata": {},
     "output_type": "execute_result"
    }
   ],
   "source": [
    "df"
   ]
  },
  {
   "cell_type": "code",
   "execution_count": 18,
   "metadata": {
    "colab": {
     "base_uri": "https://localhost:8080/",
     "height": 423
    },
    "id": "uB7DSCPkR3ec",
    "outputId": "99c4bf07-41bf-4317-d26b-6497151c4930"
   },
   "outputs": [
    {
     "data": {
      "text/html": [
       "<div>\n",
       "<style scoped>\n",
       "    .dataframe tbody tr th:only-of-type {\n",
       "        vertical-align: middle;\n",
       "    }\n",
       "\n",
       "    .dataframe tbody tr th {\n",
       "        vertical-align: top;\n",
       "    }\n",
       "\n",
       "    .dataframe thead th {\n",
       "        text-align: right;\n",
       "    }\n",
       "</style>\n",
       "<table border=\"1\" class=\"dataframe\">\n",
       "  <thead>\n",
       "    <tr style=\"text-align: right;\">\n",
       "      <th></th>\n",
       "      <th>ID</th>\n",
       "      <th>title</th>\n",
       "      <th>text</th>\n",
       "      <th>label</th>\n",
       "    </tr>\n",
       "  </thead>\n",
       "  <tbody>\n",
       "    <tr>\n",
       "      <th>0</th>\n",
       "      <td>0</td>\n",
       "      <td>you can smell hillary’s fear</td>\n",
       "      <td>daniel greenfield, a shillman journalism fello...</td>\n",
       "      <td>0</td>\n",
       "    </tr>\n",
       "    <tr>\n",
       "      <th>1</th>\n",
       "      <td>1</td>\n",
       "      <td>watch the exact moment paul ryan committed pol...</td>\n",
       "      <td>google pinterest digg linkedin reddit stumbleu...</td>\n",
       "      <td>0</td>\n",
       "    </tr>\n",
       "    <tr>\n",
       "      <th>2</th>\n",
       "      <td>2</td>\n",
       "      <td>kerry to go to paris in gesture of sympathy</td>\n",
       "      <td>u.s. secretary of state john f. kerry said mon...</td>\n",
       "      <td>1</td>\n",
       "    </tr>\n",
       "    <tr>\n",
       "      <th>3</th>\n",
       "      <td>3</td>\n",
       "      <td>bernie supporters on twitter erupt in anger ag...</td>\n",
       "      <td>— kaydee king (@kaydeeking) november 9, 2016 t...</td>\n",
       "      <td>0</td>\n",
       "    </tr>\n",
       "    <tr>\n",
       "      <th>4</th>\n",
       "      <td>4</td>\n",
       "      <td>the battle of new york: why this primary matters</td>\n",
       "      <td>it's primary day in new york and front-runners...</td>\n",
       "      <td>1</td>\n",
       "    </tr>\n",
       "    <tr>\n",
       "      <th>...</th>\n",
       "      <td>...</td>\n",
       "      <td>...</td>\n",
       "      <td>...</td>\n",
       "      <td>...</td>\n",
       "    </tr>\n",
       "    <tr>\n",
       "      <th>6294</th>\n",
       "      <td>6294</td>\n",
       "      <td>state department says it can't find emails fro...</td>\n",
       "      <td>the state department told the republican natio...</td>\n",
       "      <td>1</td>\n",
       "    </tr>\n",
       "    <tr>\n",
       "      <th>6295</th>\n",
       "      <td>6295</td>\n",
       "      <td>the ‘p’ in pbs should stand for ‘plutocratic’ ...</td>\n",
       "      <td>the ‘p’ in pbs should stand for ‘plutocratic’ ...</td>\n",
       "      <td>0</td>\n",
       "    </tr>\n",
       "    <tr>\n",
       "      <th>6296</th>\n",
       "      <td>6296</td>\n",
       "      <td>anti-trump protesters are tools of the oligarc...</td>\n",
       "      <td>anti-trump protesters are tools of the oligar...</td>\n",
       "      <td>0</td>\n",
       "    </tr>\n",
       "    <tr>\n",
       "      <th>6297</th>\n",
       "      <td>6297</td>\n",
       "      <td>in ethiopia, obama seeks progress on peace, se...</td>\n",
       "      <td>addis ababa, ethiopia —president obama convene...</td>\n",
       "      <td>1</td>\n",
       "    </tr>\n",
       "    <tr>\n",
       "      <th>6298</th>\n",
       "      <td>6298</td>\n",
       "      <td>jeb bush is suddenly attacking trump. here's w...</td>\n",
       "      <td>jeb bush is suddenly attacking trump. here's w...</td>\n",
       "      <td>1</td>\n",
       "    </tr>\n",
       "  </tbody>\n",
       "</table>\n",
       "<p>6299 rows × 4 columns</p>\n",
       "</div>"
      ],
      "text/plain": [
       "        ID                                              title  \\\n",
       "0        0                       you can smell hillary’s fear   \n",
       "1        1  watch the exact moment paul ryan committed pol...   \n",
       "2        2        kerry to go to paris in gesture of sympathy   \n",
       "3        3  bernie supporters on twitter erupt in anger ag...   \n",
       "4        4   the battle of new york: why this primary matters   \n",
       "...    ...                                                ...   \n",
       "6294  6294  state department says it can't find emails fro...   \n",
       "6295  6295  the ‘p’ in pbs should stand for ‘plutocratic’ ...   \n",
       "6296  6296  anti-trump protesters are tools of the oligarc...   \n",
       "6297  6297  in ethiopia, obama seeks progress on peace, se...   \n",
       "6298  6298  jeb bush is suddenly attacking trump. here's w...   \n",
       "\n",
       "                                                   text label  \n",
       "0     daniel greenfield, a shillman journalism fello...     0  \n",
       "1     google pinterest digg linkedin reddit stumbleu...     0  \n",
       "2     u.s. secretary of state john f. kerry said mon...     1  \n",
       "3     — kaydee king (@kaydeeking) november 9, 2016 t...     0  \n",
       "4     it's primary day in new york and front-runners...     1  \n",
       "...                                                 ...   ...  \n",
       "6294  the state department told the republican natio...     1  \n",
       "6295  the ‘p’ in pbs should stand for ‘plutocratic’ ...     0  \n",
       "6296   anti-trump protesters are tools of the oligar...     0  \n",
       "6297  addis ababa, ethiopia —president obama convene...     1  \n",
       "6298  jeb bush is suddenly attacking trump. here's w...     1  \n",
       "\n",
       "[6299 rows x 4 columns]"
      ]
     },
     "execution_count": 18,
     "metadata": {},
     "output_type": "execute_result"
    }
   ],
   "source": [
    "unique_ids = df['Unnamed: 0'].unique()\n",
    "id_mapping = {original_id: new_id for new_id, original_id in enumerate(unique_ids)}\n",
    "df['Unnamed: 0'] = df['Unnamed: 0'].map(id_mapping)\n",
    "df.rename(columns={'Unnamed: 0': \"ID\"},inplace=True)\n",
    "df"
   ]
  },
  {
   "cell_type": "code",
   "execution_count": 19,
   "metadata": {
    "id": "aXlpEZzyQtP3"
   },
   "outputs": [],
   "source": [
    "#Tokenize&Limmmatize&POS_Tagging\n",
    "\n",
    "###################################################\n",
    "tokenizer = RegexpTokenizer(r'\\w+')\n",
    "def remove_punctuation_tokenize_and_remove_stopwords(text):\n",
    "    # Remove_punctuation\n",
    "    cleaned_text =re.sub(r'[^\\w\\s]', '', str(text))\n",
    "    tokenized_text = tokenizer.tokenize(cleaned_text)\n",
    "    #remove_stopwords\n",
    "    stop_words = set(stopwords.words('english'))\n",
    "    filtered_text = [word for word in tokenized_text if word.lower() not in stop_words]\n",
    "    return filtered_text\n",
    "####################################################\n",
    "def get_wordnet_pos(tag):\n",
    "    if tag.startswith('J'):\n",
    "        return 'a'  # Adjective\n",
    "    elif tag.startswith('V'):\n",
    "        return 'v'  # Verb\n",
    "    elif tag.startswith('N'):\n",
    "        return 'n'  # Noun\n",
    "    elif tag.startswith('R'):\n",
    "        return 'r'  # Adverb\n",
    "    else:\n",
    "        return None\n",
    "####################################################\n",
    "lemmatizer = WordNetLemmatizer()\n",
    "\n",
    "def pos_tag_and_lemmatize(tokenized_words):\n",
    "    pos_tagged_words = pos_tag(tokenized_words)\n",
    "    lemmatized_words = [lemmatizer.lemmatize(word, get_wordnet_pos(tag)) if get_wordnet_pos(tag)\n",
    "                        else word for word, tag in pos_tagged_words]\n",
    "    return lemmatized_words\n",
    "\n",
    "\n",
    "\n",
    "\n"
   ]
  },
  {
   "cell_type": "code",
   "execution_count": 20,
   "metadata": {
    "id": "-8BjfCvExWaq"
   },
   "outputs": [],
   "source": [
    "# #  preprocessing (title & text )\n",
    "# ############DONOT RUN This cell if u already saved them############\n",
    "# text_column = 'text'\n",
    "# title_column=\"title\"\n",
    "# df['tokenized_text'] = df[text_column].apply(remove_punctuation_tokenize_and_remove_stopwords)\n",
    "# df['lemmatized_text'] = df['tokenized_text'].apply(pos_tag_and_lemmatize)\n",
    "# df['tokenized_title'] =df[title_column].apply(remove_punctuation_tokenize_and_remove_stopwords)\n",
    "# df['lemmatized_title'] =df['tokenized_title'].apply(pos_tag_and_lemmatize)\n",
    "# with open('preprocessed_data.pkl', 'wb') as f:\n",
    "#     pickle.dump(df, f)\n",
    "\n",
    "# print(\"Preprocessed data saved successfully!\")\n",
    "# ############Saving them instead of running everytime#########"
   ]
  },
  {
   "cell_type": "code",
   "execution_count": 21,
   "metadata": {},
   "outputs": [],
   "source": [
    "###############Loading them#################\n",
    "with open('preprocessed_data.pkl', 'rb') as f:\n",
    "    df = pickle.load(f)"
   ]
  },
  {
   "cell_type": "code",
   "execution_count": 22,
   "metadata": {
    "colab": {
     "base_uri": "https://localhost:8080/",
     "height": 822
    },
    "id": "bAF4ahZf4ycO",
    "outputId": "65a9460f-a911-4e2f-ef7f-6d93546bf54b"
   },
   "outputs": [
    {
     "data": {
      "text/html": [
       "<div>\n",
       "<style scoped>\n",
       "    .dataframe tbody tr th:only-of-type {\n",
       "        vertical-align: middle;\n",
       "    }\n",
       "\n",
       "    .dataframe tbody tr th {\n",
       "        vertical-align: top;\n",
       "    }\n",
       "\n",
       "    .dataframe thead th {\n",
       "        text-align: right;\n",
       "    }\n",
       "</style>\n",
       "<table border=\"1\" class=\"dataframe\">\n",
       "  <thead>\n",
       "    <tr style=\"text-align: right;\">\n",
       "      <th></th>\n",
       "      <th>ID</th>\n",
       "      <th>title</th>\n",
       "      <th>text</th>\n",
       "      <th>label</th>\n",
       "      <th>tokenized_text</th>\n",
       "      <th>lemmatized_text</th>\n",
       "      <th>tokenized_title</th>\n",
       "      <th>lemmatized_title</th>\n",
       "    </tr>\n",
       "  </thead>\n",
       "  <tbody>\n",
       "    <tr>\n",
       "      <th>0</th>\n",
       "      <td>0</td>\n",
       "      <td>you can smell hillary’s fear</td>\n",
       "      <td>daniel greenfield, a shillman journalism fello...</td>\n",
       "      <td>0</td>\n",
       "      <td>[daniel, greenfield, shillman, journalism, fel...</td>\n",
       "      <td>[daniel, greenfield, shillman, journalism, fel...</td>\n",
       "      <td>[smell, hillarys, fear]</td>\n",
       "      <td>[smell, hillarys, fear]</td>\n",
       "    </tr>\n",
       "    <tr>\n",
       "      <th>1</th>\n",
       "      <td>1</td>\n",
       "      <td>watch the exact moment paul ryan committed pol...</td>\n",
       "      <td>google pinterest digg linkedin reddit stumbleu...</td>\n",
       "      <td>0</td>\n",
       "      <td>[google, pinterest, digg, linkedin, reddit, st...</td>\n",
       "      <td>[google, pinterest, digg, linkedin, reddit, st...</td>\n",
       "      <td>[watch, exact, moment, paul, ryan, committed, ...</td>\n",
       "      <td>[watch, exact, moment, paul, ryan, commit, pol...</td>\n",
       "    </tr>\n",
       "    <tr>\n",
       "      <th>2</th>\n",
       "      <td>2</td>\n",
       "      <td>kerry to go to paris in gesture of sympathy</td>\n",
       "      <td>u.s. secretary of state john f. kerry said mon...</td>\n",
       "      <td>1</td>\n",
       "      <td>[us, secretary, state, john, f, kerry, said, m...</td>\n",
       "      <td>[us, secretary, state, john, f, kerry, say, mo...</td>\n",
       "      <td>[kerry, go, paris, gesture, sympathy]</td>\n",
       "      <td>[kerry, go, paris, gesture, sympathy]</td>\n",
       "    </tr>\n",
       "    <tr>\n",
       "      <th>3</th>\n",
       "      <td>3</td>\n",
       "      <td>bernie supporters on twitter erupt in anger ag...</td>\n",
       "      <td>— kaydee king (@kaydeeking) november 9, 2016 t...</td>\n",
       "      <td>0</td>\n",
       "      <td>[kaydee, king, kaydeeking, november, 9, 2016, ...</td>\n",
       "      <td>[kaydee, king, kaydeeking, november, 9, 2016, ...</td>\n",
       "      <td>[bernie, supporters, twitter, erupt, anger, dn...</td>\n",
       "      <td>[bernie, supporter, twitter, erupt, anger, dnc...</td>\n",
       "    </tr>\n",
       "    <tr>\n",
       "      <th>4</th>\n",
       "      <td>4</td>\n",
       "      <td>the battle of new york: why this primary matters</td>\n",
       "      <td>it's primary day in new york and front-runners...</td>\n",
       "      <td>1</td>\n",
       "      <td>[primary, day, new, york, frontrunners, hillar...</td>\n",
       "      <td>[primary, day, new, york, frontrunners, hillar...</td>\n",
       "      <td>[battle, new, york, primary, matters]</td>\n",
       "      <td>[battle, new, york, primary, matter]</td>\n",
       "    </tr>\n",
       "    <tr>\n",
       "      <th>...</th>\n",
       "      <td>...</td>\n",
       "      <td>...</td>\n",
       "      <td>...</td>\n",
       "      <td>...</td>\n",
       "      <td>...</td>\n",
       "      <td>...</td>\n",
       "      <td>...</td>\n",
       "      <td>...</td>\n",
       "    </tr>\n",
       "    <tr>\n",
       "      <th>6294</th>\n",
       "      <td>6294</td>\n",
       "      <td>state department says it can't find emails fro...</td>\n",
       "      <td>the state department told the republican natio...</td>\n",
       "      <td>1</td>\n",
       "      <td>[state, department, told, republican, national...</td>\n",
       "      <td>[state, department, tell, republican, national...</td>\n",
       "      <td>[state, department, says, cant, find, emails, ...</td>\n",
       "      <td>[state, department, say, cant, find, emails, c...</td>\n",
       "    </tr>\n",
       "    <tr>\n",
       "      <th>6295</th>\n",
       "      <td>6295</td>\n",
       "      <td>the ‘p’ in pbs should stand for ‘plutocratic’ ...</td>\n",
       "      <td>the ‘p’ in pbs should stand for ‘plutocratic’ ...</td>\n",
       "      <td>0</td>\n",
       "      <td>[p, pbs, stand, plutocratic, pentagon, posted,...</td>\n",
       "      <td>[p, pb, stand, plutocratic, pentagon, post, oc...</td>\n",
       "      <td>[p, pbs, stand, plutocratic, pentagon]</td>\n",
       "      <td>[p, pb, stand, plutocratic, pentagon]</td>\n",
       "    </tr>\n",
       "    <tr>\n",
       "      <th>6296</th>\n",
       "      <td>6296</td>\n",
       "      <td>anti-trump protesters are tools of the oligarc...</td>\n",
       "      <td>anti-trump protesters are tools of the oligar...</td>\n",
       "      <td>0</td>\n",
       "      <td>[antitrump, protesters, tools, oligarchy, refo...</td>\n",
       "      <td>[antitrump, protester, tool, oligarchy, reform...</td>\n",
       "      <td>[antitrump, protesters, tools, oligarchy, info...</td>\n",
       "      <td>[antitrump, protester, tool, oligarchy, inform...</td>\n",
       "    </tr>\n",
       "    <tr>\n",
       "      <th>6297</th>\n",
       "      <td>6297</td>\n",
       "      <td>in ethiopia, obama seeks progress on peace, se...</td>\n",
       "      <td>addis ababa, ethiopia —president obama convene...</td>\n",
       "      <td>1</td>\n",
       "      <td>[addis, ababa, ethiopia, president, obama, con...</td>\n",
       "      <td>[addis, ababa, ethiopia, president, obama, con...</td>\n",
       "      <td>[ethiopia, obama, seeks, progress, peace, secu...</td>\n",
       "      <td>[ethiopia, obama, seek, progress, peace, secur...</td>\n",
       "    </tr>\n",
       "    <tr>\n",
       "      <th>6298</th>\n",
       "      <td>6298</td>\n",
       "      <td>jeb bush is suddenly attacking trump. here's w...</td>\n",
       "      <td>jeb bush is suddenly attacking trump. here's w...</td>\n",
       "      <td>1</td>\n",
       "      <td>[jeb, bush, suddenly, attacking, trump, heres,...</td>\n",
       "      <td>[jeb, bush, suddenly, attack, trump, heres, ma...</td>\n",
       "      <td>[jeb, bush, suddenly, attacking, trump, heres,...</td>\n",
       "      <td>[jeb, bush, suddenly, attack, trump, here, mat...</td>\n",
       "    </tr>\n",
       "  </tbody>\n",
       "</table>\n",
       "<p>6299 rows × 8 columns</p>\n",
       "</div>"
      ],
      "text/plain": [
       "        ID                                              title  \\\n",
       "0        0                       you can smell hillary’s fear   \n",
       "1        1  watch the exact moment paul ryan committed pol...   \n",
       "2        2        kerry to go to paris in gesture of sympathy   \n",
       "3        3  bernie supporters on twitter erupt in anger ag...   \n",
       "4        4   the battle of new york: why this primary matters   \n",
       "...    ...                                                ...   \n",
       "6294  6294  state department says it can't find emails fro...   \n",
       "6295  6295  the ‘p’ in pbs should stand for ‘plutocratic’ ...   \n",
       "6296  6296  anti-trump protesters are tools of the oligarc...   \n",
       "6297  6297  in ethiopia, obama seeks progress on peace, se...   \n",
       "6298  6298  jeb bush is suddenly attacking trump. here's w...   \n",
       "\n",
       "                                                   text label  \\\n",
       "0     daniel greenfield, a shillman journalism fello...     0   \n",
       "1     google pinterest digg linkedin reddit stumbleu...     0   \n",
       "2     u.s. secretary of state john f. kerry said mon...     1   \n",
       "3     — kaydee king (@kaydeeking) november 9, 2016 t...     0   \n",
       "4     it's primary day in new york and front-runners...     1   \n",
       "...                                                 ...   ...   \n",
       "6294  the state department told the republican natio...     1   \n",
       "6295  the ‘p’ in pbs should stand for ‘plutocratic’ ...     0   \n",
       "6296   anti-trump protesters are tools of the oligar...     0   \n",
       "6297  addis ababa, ethiopia —president obama convene...     1   \n",
       "6298  jeb bush is suddenly attacking trump. here's w...     1   \n",
       "\n",
       "                                         tokenized_text  \\\n",
       "0     [daniel, greenfield, shillman, journalism, fel...   \n",
       "1     [google, pinterest, digg, linkedin, reddit, st...   \n",
       "2     [us, secretary, state, john, f, kerry, said, m...   \n",
       "3     [kaydee, king, kaydeeking, november, 9, 2016, ...   \n",
       "4     [primary, day, new, york, frontrunners, hillar...   \n",
       "...                                                 ...   \n",
       "6294  [state, department, told, republican, national...   \n",
       "6295  [p, pbs, stand, plutocratic, pentagon, posted,...   \n",
       "6296  [antitrump, protesters, tools, oligarchy, refo...   \n",
       "6297  [addis, ababa, ethiopia, president, obama, con...   \n",
       "6298  [jeb, bush, suddenly, attacking, trump, heres,...   \n",
       "\n",
       "                                        lemmatized_text  \\\n",
       "0     [daniel, greenfield, shillman, journalism, fel...   \n",
       "1     [google, pinterest, digg, linkedin, reddit, st...   \n",
       "2     [us, secretary, state, john, f, kerry, say, mo...   \n",
       "3     [kaydee, king, kaydeeking, november, 9, 2016, ...   \n",
       "4     [primary, day, new, york, frontrunners, hillar...   \n",
       "...                                                 ...   \n",
       "6294  [state, department, tell, republican, national...   \n",
       "6295  [p, pb, stand, plutocratic, pentagon, post, oc...   \n",
       "6296  [antitrump, protester, tool, oligarchy, reform...   \n",
       "6297  [addis, ababa, ethiopia, president, obama, con...   \n",
       "6298  [jeb, bush, suddenly, attack, trump, heres, ma...   \n",
       "\n",
       "                                        tokenized_title  \\\n",
       "0                               [smell, hillarys, fear]   \n",
       "1     [watch, exact, moment, paul, ryan, committed, ...   \n",
       "2                 [kerry, go, paris, gesture, sympathy]   \n",
       "3     [bernie, supporters, twitter, erupt, anger, dn...   \n",
       "4                 [battle, new, york, primary, matters]   \n",
       "...                                                 ...   \n",
       "6294  [state, department, says, cant, find, emails, ...   \n",
       "6295             [p, pbs, stand, plutocratic, pentagon]   \n",
       "6296  [antitrump, protesters, tools, oligarchy, info...   \n",
       "6297  [ethiopia, obama, seeks, progress, peace, secu...   \n",
       "6298  [jeb, bush, suddenly, attacking, trump, heres,...   \n",
       "\n",
       "                                       lemmatized_title  \n",
       "0                               [smell, hillarys, fear]  \n",
       "1     [watch, exact, moment, paul, ryan, commit, pol...  \n",
       "2                 [kerry, go, paris, gesture, sympathy]  \n",
       "3     [bernie, supporter, twitter, erupt, anger, dnc...  \n",
       "4                  [battle, new, york, primary, matter]  \n",
       "...                                                 ...  \n",
       "6294  [state, department, say, cant, find, emails, c...  \n",
       "6295              [p, pb, stand, plutocratic, pentagon]  \n",
       "6296  [antitrump, protester, tool, oligarchy, inform...  \n",
       "6297  [ethiopia, obama, seek, progress, peace, secur...  \n",
       "6298  [jeb, bush, suddenly, attack, trump, here, mat...  \n",
       "\n",
       "[6299 rows x 8 columns]"
      ]
     },
     "execution_count": 22,
     "metadata": {},
     "output_type": "execute_result"
    }
   ],
   "source": [
    "df"
   ]
  },
  {
   "cell_type": "code",
   "execution_count": 23,
   "metadata": {
    "colab": {
     "base_uri": "https://localhost:8080/"
    },
    "id": "gOoPRVNER3ed",
    "outputId": "c8dd113f-58ee-4f73-e0d6-9bdaf3371eab"
   },
   "outputs": [
    {
     "data": {
      "text/plain": [
       "0       0\n",
       "1       0\n",
       "2       1\n",
       "3       0\n",
       "4       1\n",
       "       ..\n",
       "6294    1\n",
       "6295    0\n",
       "6296    0\n",
       "6297    1\n",
       "6298    1\n",
       "Name: label, Length: 6299, dtype: object"
      ]
     },
     "execution_count": 23,
     "metadata": {},
     "output_type": "execute_result"
    }
   ],
   "source": [
    "Y = df['label']\n",
    "Y"
   ]
  },
  {
   "cell_type": "code",
   "execution_count": 24,
   "metadata": {
    "colab": {
     "base_uri": "https://localhost:8080/"
    },
    "id": "lWhql8MUR3ed",
    "outputId": "7a928b3f-4bae-4260-93f3-9310c3ddfab7"
   },
   "outputs": [
    {
     "data": {
      "text/plain": [
       "(6299, 8)"
      ]
     },
     "execution_count": 24,
     "metadata": {},
     "output_type": "execute_result"
    }
   ],
   "source": [
    "df.shape"
   ]
  },
  {
   "cell_type": "markdown",
   "metadata": {},
   "source": [
    "**2.Feature Extraction &&&& TF-IDF**"
   ]
  },
  {
   "cell_type": "code",
   "execution_count": 25,
   "metadata": {
    "id": "kuzaCPZcR3ed"
   },
   "outputs": [],
   "source": [
    "X = df.drop(['title','text','tokenized_text','tokenized_title','label','ID'], axis=1)"
   ]
  },
  {
   "cell_type": "code",
   "execution_count": 26,
   "metadata": {
    "colab": {
     "base_uri": "https://localhost:8080/",
     "height": 423
    },
    "id": "2BfF_oCDR3ed",
    "outputId": "a001a827-5a24-4eb5-c161-40b3230c1ba4"
   },
   "outputs": [
    {
     "data": {
      "text/html": [
       "<div>\n",
       "<style scoped>\n",
       "    .dataframe tbody tr th:only-of-type {\n",
       "        vertical-align: middle;\n",
       "    }\n",
       "\n",
       "    .dataframe tbody tr th {\n",
       "        vertical-align: top;\n",
       "    }\n",
       "\n",
       "    .dataframe thead th {\n",
       "        text-align: right;\n",
       "    }\n",
       "</style>\n",
       "<table border=\"1\" class=\"dataframe\">\n",
       "  <thead>\n",
       "    <tr style=\"text-align: right;\">\n",
       "      <th></th>\n",
       "      <th>lemmatized_text</th>\n",
       "      <th>lemmatized_title</th>\n",
       "    </tr>\n",
       "  </thead>\n",
       "  <tbody>\n",
       "    <tr>\n",
       "      <th>0</th>\n",
       "      <td>[daniel, greenfield, shillman, journalism, fel...</td>\n",
       "      <td>[smell, hillarys, fear]</td>\n",
       "    </tr>\n",
       "    <tr>\n",
       "      <th>1</th>\n",
       "      <td>[google, pinterest, digg, linkedin, reddit, st...</td>\n",
       "      <td>[watch, exact, moment, paul, ryan, commit, pol...</td>\n",
       "    </tr>\n",
       "    <tr>\n",
       "      <th>2</th>\n",
       "      <td>[us, secretary, state, john, f, kerry, say, mo...</td>\n",
       "      <td>[kerry, go, paris, gesture, sympathy]</td>\n",
       "    </tr>\n",
       "    <tr>\n",
       "      <th>3</th>\n",
       "      <td>[kaydee, king, kaydeeking, november, 9, 2016, ...</td>\n",
       "      <td>[bernie, supporter, twitter, erupt, anger, dnc...</td>\n",
       "    </tr>\n",
       "    <tr>\n",
       "      <th>4</th>\n",
       "      <td>[primary, day, new, york, frontrunners, hillar...</td>\n",
       "      <td>[battle, new, york, primary, matter]</td>\n",
       "    </tr>\n",
       "    <tr>\n",
       "      <th>...</th>\n",
       "      <td>...</td>\n",
       "      <td>...</td>\n",
       "    </tr>\n",
       "    <tr>\n",
       "      <th>6294</th>\n",
       "      <td>[state, department, tell, republican, national...</td>\n",
       "      <td>[state, department, say, cant, find, emails, c...</td>\n",
       "    </tr>\n",
       "    <tr>\n",
       "      <th>6295</th>\n",
       "      <td>[p, pb, stand, plutocratic, pentagon, post, oc...</td>\n",
       "      <td>[p, pb, stand, plutocratic, pentagon]</td>\n",
       "    </tr>\n",
       "    <tr>\n",
       "      <th>6296</th>\n",
       "      <td>[antitrump, protester, tool, oligarchy, reform...</td>\n",
       "      <td>[antitrump, protester, tool, oligarchy, inform...</td>\n",
       "    </tr>\n",
       "    <tr>\n",
       "      <th>6297</th>\n",
       "      <td>[addis, ababa, ethiopia, president, obama, con...</td>\n",
       "      <td>[ethiopia, obama, seek, progress, peace, secur...</td>\n",
       "    </tr>\n",
       "    <tr>\n",
       "      <th>6298</th>\n",
       "      <td>[jeb, bush, suddenly, attack, trump, heres, ma...</td>\n",
       "      <td>[jeb, bush, suddenly, attack, trump, here, mat...</td>\n",
       "    </tr>\n",
       "  </tbody>\n",
       "</table>\n",
       "<p>6299 rows × 2 columns</p>\n",
       "</div>"
      ],
      "text/plain": [
       "                                        lemmatized_text  \\\n",
       "0     [daniel, greenfield, shillman, journalism, fel...   \n",
       "1     [google, pinterest, digg, linkedin, reddit, st...   \n",
       "2     [us, secretary, state, john, f, kerry, say, mo...   \n",
       "3     [kaydee, king, kaydeeking, november, 9, 2016, ...   \n",
       "4     [primary, day, new, york, frontrunners, hillar...   \n",
       "...                                                 ...   \n",
       "6294  [state, department, tell, republican, national...   \n",
       "6295  [p, pb, stand, plutocratic, pentagon, post, oc...   \n",
       "6296  [antitrump, protester, tool, oligarchy, reform...   \n",
       "6297  [addis, ababa, ethiopia, president, obama, con...   \n",
       "6298  [jeb, bush, suddenly, attack, trump, heres, ma...   \n",
       "\n",
       "                                       lemmatized_title  \n",
       "0                               [smell, hillarys, fear]  \n",
       "1     [watch, exact, moment, paul, ryan, commit, pol...  \n",
       "2                 [kerry, go, paris, gesture, sympathy]  \n",
       "3     [bernie, supporter, twitter, erupt, anger, dnc...  \n",
       "4                  [battle, new, york, primary, matter]  \n",
       "...                                                 ...  \n",
       "6294  [state, department, say, cant, find, emails, c...  \n",
       "6295              [p, pb, stand, plutocratic, pentagon]  \n",
       "6296  [antitrump, protester, tool, oligarchy, inform...  \n",
       "6297  [ethiopia, obama, seek, progress, peace, secur...  \n",
       "6298  [jeb, bush, suddenly, attack, trump, here, mat...  \n",
       "\n",
       "[6299 rows x 2 columns]"
      ]
     },
     "execution_count": 26,
     "metadata": {},
     "output_type": "execute_result"
    }
   ],
   "source": [
    "X"
   ]
  },
  {
   "cell_type": "code",
   "execution_count": 27,
   "metadata": {
    "colab": {
     "base_uri": "https://localhost:8080/"
    },
    "id": "MES9pkffR3ed",
    "outputId": "f0475dc0-1941-402d-ffe3-9bf3b7743563"
   },
   "outputs": [
    {
     "name": "stdout",
     "output_type": "stream",
     "text": [
      "  (0, 24541)\t0.01931317300642821\n",
      "  (0, 12977)\t0.01503765807506309\n",
      "  (0, 4747)\t0.028660409351334515\n",
      "  (0, 35310)\t0.02826265924011383\n",
      "  (0, 13550)\t0.02993238528426158\n",
      "  (0, 15173)\t0.013128333867747652\n",
      "  (0, 64918)\t0.011596049580538942\n",
      "  (0, 49075)\t0.014073204632965504\n",
      "  (0, 64660)\t0.020814756684917796\n",
      "  (0, 19658)\t0.02322417387033413\n",
      "  (0, 50525)\t0.025384690827917247\n",
      "  (0, 77635)\t0.026796336163326627\n",
      "  (0, 67279)\t0.015297654270888068\n",
      "  (0, 41304)\t0.011303615140255489\n",
      "  (0, 44824)\t0.011901254071299654\n",
      "  (0, 62893)\t0.02320613529390864\n",
      "  (0, 73257)\t0.028706319495839752\n",
      "  (0, 58568)\t0.024836301589830172\n",
      "  (0, 16446)\t0.015200517484901655\n",
      "  (0, 9506)\t0.015448843005845174\n",
      "  (0, 67563)\t0.019157801311690037\n",
      "  (0, 14359)\t0.023333588521725544\n",
      "  (0, 75190)\t0.02021240959690712\n",
      "  (0, 64000)\t0.01913080581379957\n",
      "  (0, 6736)\t0.0184486129955619\n",
      "  :\t:\n",
      "  (6298, 8073)\t0.0375450894777581\n",
      "  (6298, 13920)\t0.041663444511035354\n",
      "  (6298, 71229)\t0.011568613132266474\n",
      "  (6298, 68202)\t0.026129175700626433\n",
      "  (6298, 20951)\t0.0752650703230581\n",
      "  (6298, 18009)\t0.017162550676554308\n",
      "  (6298, 72509)\t0.3838516348455743\n",
      "  (6298, 34099)\t0.04797228745289249\n",
      "  (6298, 45268)\t0.035034681274096195\n",
      "  (6298, 9127)\t0.14265719952044612\n",
      "  (6298, 78198)\t0.02269850526842116\n",
      "  (6298, 53723)\t0.011845849206434424\n",
      "  (6298, 70460)\t0.01697207055974604\n",
      "  (6298, 53179)\t0.032896476192866425\n",
      "  (6298, 55352)\t0.015645144080032553\n",
      "  (6298, 67783)\t0.016109635221684362\n",
      "  (6298, 51083)\t0.021973465247487604\n",
      "  (6298, 8546)\t0.017609921481304122\n",
      "  (6298, 78034)\t0.02064048728726796\n",
      "  (6298, 76418)\t0.018390230738272156\n",
      "  (6298, 30843)\t0.03538399535004514\n",
      "  (6298, 16300)\t0.01445591831747414\n",
      "  (6298, 33899)\t0.014959619575628264\n",
      "  (6298, 24330)\t0.015609497064678552\n",
      "  (6298, 49094)\t0.06012818390167627\n"
     ]
    }
   ],
   "source": [
    "####### Applying tf_idf#####\n",
    "X['combined_text'] = X['lemmatized_text'].apply(lambda x: ' '.join(x)) + ' ' + X['lemmatized_title'].apply(lambda x: ' '.join(x))\n",
    "tfidf_vectorizer = TfidfVectorizer()\n",
    "tfidf_matrix = tfidf_vectorizer.fit_transform(X['combined_text'])\n",
    "\n",
    "print(tfidf_matrix)"
   ]
  },
  {
   "cell_type": "code",
   "execution_count": 28,
   "metadata": {},
   "outputs": [
    {
     "data": {
      "text/html": [
       "<div>\n",
       "<style scoped>\n",
       "    .dataframe tbody tr th:only-of-type {\n",
       "        vertical-align: middle;\n",
       "    }\n",
       "\n",
       "    .dataframe tbody tr th {\n",
       "        vertical-align: top;\n",
       "    }\n",
       "\n",
       "    .dataframe thead th {\n",
       "        text-align: right;\n",
       "    }\n",
       "</style>\n",
       "<table border=\"1\" class=\"dataframe\">\n",
       "  <thead>\n",
       "    <tr style=\"text-align: right;\">\n",
       "      <th></th>\n",
       "      <th>lemmatized_text</th>\n",
       "      <th>lemmatized_title</th>\n",
       "      <th>combined_text</th>\n",
       "    </tr>\n",
       "  </thead>\n",
       "  <tbody>\n",
       "    <tr>\n",
       "      <th>0</th>\n",
       "      <td>[daniel, greenfield, shillman, journalism, fel...</td>\n",
       "      <td>[smell, hillarys, fear]</td>\n",
       "      <td>daniel greenfield shillman journalism fellow f...</td>\n",
       "    </tr>\n",
       "    <tr>\n",
       "      <th>1</th>\n",
       "      <td>[google, pinterest, digg, linkedin, reddit, st...</td>\n",
       "      <td>[watch, exact, moment, paul, ryan, commit, pol...</td>\n",
       "      <td>google pinterest digg linkedin reddit stumbleu...</td>\n",
       "    </tr>\n",
       "    <tr>\n",
       "      <th>2</th>\n",
       "      <td>[us, secretary, state, john, f, kerry, say, mo...</td>\n",
       "      <td>[kerry, go, paris, gesture, sympathy]</td>\n",
       "      <td>us secretary state john f kerry say monday sto...</td>\n",
       "    </tr>\n",
       "    <tr>\n",
       "      <th>3</th>\n",
       "      <td>[kaydee, king, kaydeeking, november, 9, 2016, ...</td>\n",
       "      <td>[bernie, supporter, twitter, erupt, anger, dnc...</td>\n",
       "      <td>kaydee king kaydeeking november 9 2016 lesson ...</td>\n",
       "    </tr>\n",
       "    <tr>\n",
       "      <th>4</th>\n",
       "      <td>[primary, day, new, york, frontrunners, hillar...</td>\n",
       "      <td>[battle, new, york, primary, matter]</td>\n",
       "      <td>primary day new york frontrunners hillary clin...</td>\n",
       "    </tr>\n",
       "    <tr>\n",
       "      <th>...</th>\n",
       "      <td>...</td>\n",
       "      <td>...</td>\n",
       "      <td>...</td>\n",
       "    </tr>\n",
       "    <tr>\n",
       "      <th>6294</th>\n",
       "      <td>[state, department, tell, republican, national...</td>\n",
       "      <td>[state, department, say, cant, find, emails, c...</td>\n",
       "      <td>state department tell republican national comm...</td>\n",
       "    </tr>\n",
       "    <tr>\n",
       "      <th>6295</th>\n",
       "      <td>[p, pb, stand, plutocratic, pentagon, post, oc...</td>\n",
       "      <td>[p, pb, stand, plutocratic, pentagon]</td>\n",
       "      <td>p pb stand plutocratic pentagon post oct 27 20...</td>\n",
       "    </tr>\n",
       "    <tr>\n",
       "      <th>6296</th>\n",
       "      <td>[antitrump, protester, tool, oligarchy, reform...</td>\n",
       "      <td>[antitrump, protester, tool, oligarchy, inform...</td>\n",
       "      <td>antitrump protester tool oligarchy reform alwa...</td>\n",
       "    </tr>\n",
       "    <tr>\n",
       "      <th>6297</th>\n",
       "      <td>[addis, ababa, ethiopia, president, obama, con...</td>\n",
       "      <td>[ethiopia, obama, seek, progress, peace, secur...</td>\n",
       "      <td>addis ababa ethiopia president obama convene m...</td>\n",
       "    </tr>\n",
       "    <tr>\n",
       "      <th>6298</th>\n",
       "      <td>[jeb, bush, suddenly, attack, trump, heres, ma...</td>\n",
       "      <td>[jeb, bush, suddenly, attack, trump, here, mat...</td>\n",
       "      <td>jeb bush suddenly attack trump heres matter je...</td>\n",
       "    </tr>\n",
       "  </tbody>\n",
       "</table>\n",
       "<p>6299 rows × 3 columns</p>\n",
       "</div>"
      ],
      "text/plain": [
       "                                        lemmatized_text  \\\n",
       "0     [daniel, greenfield, shillman, journalism, fel...   \n",
       "1     [google, pinterest, digg, linkedin, reddit, st...   \n",
       "2     [us, secretary, state, john, f, kerry, say, mo...   \n",
       "3     [kaydee, king, kaydeeking, november, 9, 2016, ...   \n",
       "4     [primary, day, new, york, frontrunners, hillar...   \n",
       "...                                                 ...   \n",
       "6294  [state, department, tell, republican, national...   \n",
       "6295  [p, pb, stand, plutocratic, pentagon, post, oc...   \n",
       "6296  [antitrump, protester, tool, oligarchy, reform...   \n",
       "6297  [addis, ababa, ethiopia, president, obama, con...   \n",
       "6298  [jeb, bush, suddenly, attack, trump, heres, ma...   \n",
       "\n",
       "                                       lemmatized_title  \\\n",
       "0                               [smell, hillarys, fear]   \n",
       "1     [watch, exact, moment, paul, ryan, commit, pol...   \n",
       "2                 [kerry, go, paris, gesture, sympathy]   \n",
       "3     [bernie, supporter, twitter, erupt, anger, dnc...   \n",
       "4                  [battle, new, york, primary, matter]   \n",
       "...                                                 ...   \n",
       "6294  [state, department, say, cant, find, emails, c...   \n",
       "6295              [p, pb, stand, plutocratic, pentagon]   \n",
       "6296  [antitrump, protester, tool, oligarchy, inform...   \n",
       "6297  [ethiopia, obama, seek, progress, peace, secur...   \n",
       "6298  [jeb, bush, suddenly, attack, trump, here, mat...   \n",
       "\n",
       "                                          combined_text  \n",
       "0     daniel greenfield shillman journalism fellow f...  \n",
       "1     google pinterest digg linkedin reddit stumbleu...  \n",
       "2     us secretary state john f kerry say monday sto...  \n",
       "3     kaydee king kaydeeking november 9 2016 lesson ...  \n",
       "4     primary day new york frontrunners hillary clin...  \n",
       "...                                                 ...  \n",
       "6294  state department tell republican national comm...  \n",
       "6295  p pb stand plutocratic pentagon post oct 27 20...  \n",
       "6296  antitrump protester tool oligarchy reform alwa...  \n",
       "6297  addis ababa ethiopia president obama convene m...  \n",
       "6298  jeb bush suddenly attack trump heres matter je...  \n",
       "\n",
       "[6299 rows x 3 columns]"
      ]
     },
     "execution_count": 28,
     "metadata": {},
     "output_type": "execute_result"
    }
   ],
   "source": [
    "X"
   ]
  },
  {
   "cell_type": "markdown",
   "metadata": {},
   "source": [
    "Splitting data"
   ]
  },
  {
   "cell_type": "code",
   "execution_count": 29,
   "metadata": {
    "id": "G0LidWnMR3ee"
   },
   "outputs": [],
   "source": [
    "######splitting data to tarin and test######\n",
    "tfidf_x_train, tfidf_x_test, y_train, y_test = train_test_split(tfidf_matrix, Y, test_size=0.2, random_state=0)"
   ]
  },
  {
   "cell_type": "markdown",
   "metadata": {},
   "source": [
    "**3.MODELS**"
   ]
  },
  {
   "cell_type": "markdown",
   "metadata": {},
   "source": [
    "**Model I:Logistic Regression**"
   ]
  },
  {
   "cell_type": "code",
   "execution_count": 30,
   "metadata": {
    "colab": {
     "base_uri": "https://localhost:8080/"
    },
    "id": "tv99LXeVTs8T",
    "outputId": "ec4f9ac6-d420-4481-b27a-55739da22f06"
   },
   "outputs": [
    {
     "name": "stdout",
     "output_type": "stream",
     "text": [
      "Train Accuracy is:  95.31653105774956\n",
      "Test Accuracy is:  92.38095238095238\n"
     ]
    }
   ],
   "source": [
    "#logistic regression\n",
    "lr=LogisticRegression()\n",
    "lr.fit(tfidf_x_train,y_train)\n",
    "acc=lr.score(tfidf_x_test,y_test)\n",
    "acct=lr.score(tfidf_x_train,y_train)\n",
    "print(\"Train Accuracy is: \",acct*100)\n",
    "print(\"Test Accuracy is: \",acc*100)"
   ]
  },
  {
   "cell_type": "markdown",
   "metadata": {},
   "source": [
    "**Model II:Decision tree**"
   ]
  },
  {
   "cell_type": "code",
   "execution_count": 31,
   "metadata": {
    "colab": {
     "base_uri": "https://localhost:8080/"
    },
    "id": "bNzIj9e-TzaA",
    "outputId": "7d29a562-4cd8-4e0b-b7dc-0e13460c3398"
   },
   "outputs": [
    {
     "name": "stdout",
     "output_type": "stream",
     "text": [
      "Train Accuracy is:  95.31653105774956\n",
      "Test Accuracy is:  82.22222222222221\n"
     ]
    }
   ],
   "source": [
    "#Decision tree\n",
    "dt=DecisionTreeClassifier()\n",
    "dt.fit(tfidf_x_train,y_train)\n",
    "acc=dt.score(tfidf_x_test,y_test)\n",
    "acct=lr.score(tfidf_x_train,y_train)\n",
    "print(\"Train Accuracy is: \",acct*100)\n",
    "print(\"Test Accuracy is: \",acc*100)"
   ]
  },
  {
   "cell_type": "markdown",
   "metadata": {},
   "source": [
    "**Model III:Passive Aggressive**"
   ]
  },
  {
   "cell_type": "code",
   "execution_count": 32,
   "metadata": {
    "colab": {
     "base_uri": "https://localhost:8080/"
    },
    "id": "50bWon3VT3pf",
    "outputId": "86b7c266-66a1-478b-aa87-127afeb4a208"
   },
   "outputs": [
    {
     "name": "stdout",
     "output_type": "stream",
     "text": [
      "Train Accuracy is:  100.0\n",
      "Test Accuracy is:  94.36507936507937\n"
     ]
    }
   ],
   "source": [
    "#passive agressive\n",
    "pa=PassiveAggressiveClassifier(max_iter=150)\n",
    "pa.fit(tfidf_x_train,y_train)\n",
    "acc=pa.score(tfidf_x_test,y_test)\n",
    "acct=pa.score(tfidf_x_train,y_train)\n",
    "print(\"Train Accuracy is: \",acct*100)\n",
    "print(\"Test Accuracy is: \",acc*100)"
   ]
  },
  {
   "cell_type": "markdown",
   "metadata": {},
   "source": [
    "**Model IV:Naive Bayes**"
   ]
  },
  {
   "cell_type": "code",
   "execution_count": 33,
   "metadata": {
    "colab": {
     "base_uri": "https://localhost:8080/"
    },
    "id": "UqbWn4tAT8EP",
    "outputId": "f9f9a9a3-5265-4f7e-b366-88093fa759d7"
   },
   "outputs": [
    {
     "name": "stdout",
     "output_type": "stream",
     "text": [
      "Train Accuracy is:  88.76761262155189\n",
      "Test Accuracy is:  83.41269841269842\n"
     ]
    }
   ],
   "source": [
    "#naive Bayes\n",
    "nb=MultinomialNB()\n",
    "nb.fit(tfidf_x_train,y_train)\n",
    "acc=nb.score(tfidf_x_test,y_test)\n",
    "acct=nb.score(tfidf_x_train,y_train)\n",
    "print(\"Train Accuracy is: \",acct*100)\n",
    "print(\"Test Accuracy is: \",acc*100)"
   ]
  },
  {
   "cell_type": "markdown",
   "metadata": {},
   "source": [
    "**Model V:SVC**"
   ]
  },
  {
   "cell_type": "code",
   "execution_count": 34,
   "metadata": {
    "colab": {
     "base_uri": "https://localhost:8080/"
    },
    "id": "xoD2b1suXbOI",
    "outputId": "b611690d-11ea-4262-8f50-9c08e419a718"
   },
   "outputs": [
    {
     "name": "stdout",
     "output_type": "stream",
     "text": [
      "Train Accuracy is:  99.04743004564398\n",
      "Test Accuracy is:  94.52380952380952\n"
     ]
    }
   ],
   "source": [
    "# SVC\n",
    "sv=SVC(kernel='linear')\n",
    "sv.fit(tfidf_x_train,y_train)\n",
    "acc=sv.score(tfidf_x_test,y_test)\n",
    "acct=sv.score(tfidf_x_train,y_train)\n",
    "print(\"Train Accuracy is: \",acct*100)\n",
    "print(\"Test Accuracy is: \",acc*100)"
   ]
  },
  {
   "cell_type": "markdown",
   "metadata": {},
   "source": [
    "**Or We can use the already saved models!**"
   ]
  },
  {
   "cell_type": "code",
   "execution_count": 35,
   "metadata": {},
   "outputs": [
    {
     "name": "stdout",
     "output_type": "stream",
     "text": [
      "Models loaded successfully!\n"
     ]
    }
   ],
   "source": [
    "############Loading Models##############\n",
    "try:\n",
    "    lr = load('logistic_regression_model.joblib')\n",
    "    dt = load('decision_tree_model.joblib')\n",
    "    pa = load('passive_aggressive_model.joblib')\n",
    "    nb = load('naive_bayes_model.joblib')\n",
    "    sv = load('support_vector_machine_model.joblib')\n",
    "    \n",
    "    print(\"Models loaded successfully!\")\n",
    "except FileNotFoundError:\n",
    "    print(\"Saved models not found. Training models from scratch...\")\n",
    "    \n",
    "    lr = LogisticRegression()\n",
    "    lr.fit(tfidf_x_train, y_train)\n",
    "\n",
    "    dt = DecisionTreeClassifier()\n",
    "    dt.fit(tfidf_x_train, y_train)\n",
    "\n",
    "    pa = PassiveAggressiveClassifier(max_iter=150)\n",
    "    pa.fit(tfidf_x_train, y_train)\n",
    "\n",
    "    nb = MultinomialNB()\n",
    "    nb.fit(tfidf_x_train, y_train)\n",
    "\n",
    "    sv = SVC(kernel='linear')\n",
    "    sv.fit(tfidf_x_train, y_train)\n",
    "\n",
    "    print(\"Models trained successfully!\")"
   ]
  },
  {
   "cell_type": "markdown",
   "metadata": {},
   "source": [
    "**4.Visualizing the results**"
   ]
  },
  {
   "cell_type": "code",
   "execution_count": 36,
   "metadata": {
    "id": "e8G9aLaXbiiq"
   },
   "outputs": [
    {
     "data": {
      "image/png": "[encoded data removed]",
      "text/plain": [
       "<Figure size 1000x600 with 1 Axes>"
      ]
     },
     "metadata": {},
     "output_type": "display_data"
    }
   ],
   "source": [
    "###########Visualize the result#############\n",
    "models = ['Logistic Regression', 'Decision Tree', 'Passive Aggressive', 'Naive Bayes', 'SVM']\n",
    "accuracies = [lr.score(tfidf_x_test, y_test) * 100,\n",
    "              dt.score(tfidf_x_test, y_test) * 100,\n",
    "              pa.score(tfidf_x_test, y_test) * 100,\n",
    "              nb.score(tfidf_x_test, y_test) * 100,\n",
    "              sv.score(tfidf_x_test, y_test) * 100]\n",
    "\n",
    "plt.figure(figsize=(10, 6))\n",
    "plt.bar(models, accuracies, color=['blue', 'green', 'red', 'purple', 'orange'])\n",
    "plt.xlabel('Models')\n",
    "plt.ylabel('Accuracy (%)')\n",
    "plt.title('Accuracy of Different Models')\n",
    "plt.ylim(80, 100)\n",
    "plt.show()"
   ]
  },
  {
   "cell_type": "code",
   "execution_count": 41,
   "metadata": {},
   "outputs": [
    {
     "data": {
      "text/html": [
       "<div>\n",
       "<style scoped>\n",
       "    .dataframe tbody tr th:only-of-type {\n",
       "        vertical-align: middle;\n",
       "    }\n",
       "\n",
       "    .dataframe tbody tr th {\n",
       "        vertical-align: top;\n",
       "    }\n",
       "\n",
       "    .dataframe thead th {\n",
       "        text-align: right;\n",
       "    }\n",
       "</style>\n",
       "<table border=\"1\" class=\"dataframe\">\n",
       "  <thead>\n",
       "    <tr style=\"text-align: right;\">\n",
       "      <th></th>\n",
       "      <th>Model</th>\n",
       "      <th>Train Accuracy (%)</th>\n",
       "      <th>Test Accuracy (%)</th>\n",
       "    </tr>\n",
       "  </thead>\n",
       "  <tbody>\n",
       "    <tr>\n",
       "      <th>0</th>\n",
       "      <td>Logistic Regression</td>\n",
       "      <td>95.316531</td>\n",
       "      <td>92.380952</td>\n",
       "    </tr>\n",
       "    <tr>\n",
       "      <th>1</th>\n",
       "      <td>Decision Tree</td>\n",
       "      <td>100.000000</td>\n",
       "      <td>81.984127</td>\n",
       "    </tr>\n",
       "    <tr>\n",
       "      <th>2</th>\n",
       "      <td>Passive Aggressive</td>\n",
       "      <td>100.000000</td>\n",
       "      <td>94.285714</td>\n",
       "    </tr>\n",
       "    <tr>\n",
       "      <th>3</th>\n",
       "      <td>Naive Bayes</td>\n",
       "      <td>88.767613</td>\n",
       "      <td>83.412698</td>\n",
       "    </tr>\n",
       "    <tr>\n",
       "      <th>4</th>\n",
       "      <td>SVM</td>\n",
       "      <td>99.047430</td>\n",
       "      <td>94.523810</td>\n",
       "    </tr>\n",
       "  </tbody>\n",
       "</table>\n",
       "</div>"
      ],
      "text/plain": [
       "                 Model  Train Accuracy (%)  Test Accuracy (%)\n",
       "0  Logistic Regression           95.316531          92.380952\n",
       "1        Decision Tree          100.000000          81.984127\n",
       "2   Passive Aggressive          100.000000          94.285714\n",
       "3          Naive Bayes           88.767613          83.412698\n",
       "4                  SVM           99.047430          94.523810"
      ]
     },
     "execution_count": 41,
     "metadata": {},
     "output_type": "execute_result"
    }
   ],
   "source": [
    "train_accuracies = [lr.score(tfidf_x_train, y_train) * 100,\n",
    "                    dt.score(tfidf_x_train, y_train) * 100,\n",
    "                    pa.score(tfidf_x_train, y_train) * 100,\n",
    "                    nb.score(tfidf_x_train, y_train) * 100,\n",
    "                    sv.score(tfidf_x_train, y_train) * 100]\n",
    "\n",
    "data = {'Model': models, 'Train Accuracy (%)': train_accuracies, 'Test Accuracy (%)': accuracies}\n",
    "dnew = pd.DataFrame(data)\n",
    "dnew"
   ]
  },
  {
   "cell_type": "code",
   "execution_count": 38,
   "metadata": {},
   "outputs": [
    {
     "data": {
      "image/png": "[encoded data removed]",
      "text/plain": [
       "<Figure size 1500x1200 with 5 Axes>"
      ]
     },
     "metadata": {},
     "output_type": "display_data"
    }
   ],
   "source": [
    "###################Confusion Matrix####################\n",
    "lr_pred = lr.predict(tfidf_x_test)\n",
    "dt_pred = dt.predict(tfidf_x_test)\n",
    "pa_pred = pa.predict(tfidf_x_test)\n",
    "nb_pred = nb.predict(tfidf_x_test)\n",
    "sv_pred = sv.predict(tfidf_x_test)\n",
    "\n",
    "\n",
    "cm_lr = confusion_matrix(y_test, lr_pred)\n",
    "cm_dt = confusion_matrix(y_test, dt_pred)\n",
    "cm_pa = confusion_matrix(y_test, pa_pred)\n",
    "cm_nb = confusion_matrix(y_test, nb_pred)\n",
    "cm_sv = confusion_matrix(y_test, sv_pred)\n",
    "\n",
    "\n",
    "plt.figure(figsize=(15, 12))\n",
    "\n",
    "plt.subplot(2, 3, 1)\n",
    "sns.heatmap(cm_lr, annot=True, fmt='d', cmap='Blues', cbar=False)\n",
    "plt.title('Logistic Regression')\n",
    "plt.xlabel('Predicted')\n",
    "plt.ylabel('Actual')\n",
    "\n",
    "plt.subplot(2, 3, 2)\n",
    "sns.heatmap(cm_dt, annot=True, fmt='d', cmap='Greens', cbar=False)\n",
    "plt.title('Decision Tree')\n",
    "plt.xlabel('Predicted')\n",
    "plt.ylabel('Actual')\n",
    "\n",
    "plt.subplot(2, 3, 3)\n",
    "sns.heatmap(cm_pa, annot=True, fmt='d', cmap='Reds', cbar=False)\n",
    "plt.title('Passive Aggressive')\n",
    "plt.xlabel('Predicted')\n",
    "plt.ylabel('Actual')\n",
    "\n",
    "plt.subplot(2, 3, 4)\n",
    "sns.heatmap(cm_nb, annot=True, fmt='d', cmap='Purples', cbar=False)\n",
    "plt.title('Naive Bayes')\n",
    "plt.xlabel('Predicted')\n",
    "plt.ylabel('Actual')\n",
    "\n",
    "plt.subplot(2, 3, 5)\n",
    "sns.heatmap(cm_sv, annot=True, fmt='d', cmap='Oranges', cbar=False)\n",
    "plt.title('SVM')\n",
    "plt.xlabel('Predicted')\n",
    "plt.ylabel('Actual')\n",
    "\n",
    "plt.tight_layout()\n",
    "plt.show()\n"
   ]
  },
  {
   "cell_type": "code",
   "execution_count": 39,
   "metadata": {},
   "outputs": [
    {
     "name": "stdout",
     "output_type": "stream",
     "text": [
      "Logistic Regression:\n",
      "              precision    recall  f1-score   support\n",
      "\n",
      "           0       0.89      0.95      0.92       603\n",
      "           1       0.95      0.90      0.92       657\n",
      "\n",
      "    accuracy                           0.92      1260\n",
      "   macro avg       0.92      0.93      0.92      1260\n",
      "weighted avg       0.93      0.92      0.92      1260\n",
      "\n",
      "Decision Tree:\n",
      "              precision    recall  f1-score   support\n",
      "\n",
      "           0       0.80      0.83      0.81       603\n",
      "           1       0.84      0.81      0.82       657\n",
      "\n",
      "    accuracy                           0.82      1260\n",
      "   macro avg       0.82      0.82      0.82      1260\n",
      "weighted avg       0.82      0.82      0.82      1260\n",
      "\n",
      "Passive Aggressive:\n",
      "              precision    recall  f1-score   support\n",
      "\n",
      "           0       0.93      0.96      0.94       603\n",
      "           1       0.96      0.93      0.94       657\n",
      "\n",
      "    accuracy                           0.94      1260\n",
      "   macro avg       0.94      0.94      0.94      1260\n",
      "weighted avg       0.94      0.94      0.94      1260\n",
      "\n",
      "Naive Bayes:\n",
      "              precision    recall  f1-score   support\n",
      "\n",
      "           0       0.97      0.68      0.80       603\n",
      "           1       0.77      0.98      0.86       657\n",
      "\n",
      "    accuracy                           0.83      1260\n",
      "   macro avg       0.87      0.83      0.83      1260\n",
      "weighted avg       0.86      0.83      0.83      1260\n",
      "\n",
      "Support Vector Machine:\n",
      "              precision    recall  f1-score   support\n",
      "\n",
      "           0       0.92      0.97      0.94       603\n",
      "           1       0.97      0.93      0.95       657\n",
      "\n",
      "    accuracy                           0.95      1260\n",
      "   macro avg       0.95      0.95      0.95      1260\n",
      "weighted avg       0.95      0.95      0.95      1260\n",
      "\n"
     ]
    }
   ],
   "source": [
    "###################Classification Report####################\n",
    "print(\"Logistic Regression:\")\n",
    "print(classification_report(y_test, lr_pred))\n",
    "\n",
    "print(\"Decision Tree:\")\n",
    "print(classification_report(y_test, dt_pred))\n",
    "\n",
    "print(\"Passive Aggressive:\")\n",
    "print(classification_report(y_test, pa_pred))\n",
    "\n",
    "print(\"Naive Bayes:\")\n",
    "print(classification_report(y_test, nb_pred))\n",
    "\n",
    "print(\"Support Vector Machine:\")\n",
    "print(classification_report(y_test, sv_pred))"
   ]
  },
  {
   "cell_type": "markdown",
   "metadata": {},
   "source": [
    "**5.Saving the models!**"
   ]
  },
  {
   "cell_type": "code",
   "execution_count": 40,
   "metadata": {},
   "outputs": [
    {
     "name": "stdout",
     "output_type": "stream",
     "text": [
      "Models saved successfully!\n"
     ]
    }
   ],
   "source": [
    "############Saving the models#########\n",
    "lr_model_path = 'logistic_regression_model.joblib'\n",
    "dt_model_path = 'decision_tree_model.joblib'\n",
    "pa_model_path = 'passive_aggressive_model.joblib'\n",
    "nb_model_path = 'naive_bayes_model.joblib'\n",
    "sv_model_path = 'support_vector_machine_model.joblib'\n",
    "\n",
    "dump(lr, lr_model_path)\n",
    "dump(dt, dt_model_path)\n",
    "dump(pa, pa_model_path)\n",
    "dump(nb, nb_model_path)\n",
    "dump(sv, sv_model_path)\n",
    "\n",
    "print(\"Models saved successfully!\")"
   ]
  }
 ],
 "metadata": {
  "colab": {
   "provenance": []
  },
  "kernelspec": {
   "display_name": "Python 3 (ipykernel)",
   "language": "python",
   "name": "python3"
  },
  "language_info": {
   "codemirror_mode": {
    "name": "ipython",
    "version": 3
   },
   "file_extension": ".py",
   "mimetype": "text/x-python",
   "name": "python",
   "nbconvert_exporter": "python",
   "pygments_lexer": "ipython3",
   "version": "3.11.2"
  }
 },
 "nbformat": 4,
 "nbformat_minor": 1
}
